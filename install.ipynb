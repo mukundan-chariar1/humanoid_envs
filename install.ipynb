{
 "cells": [
  {
   "cell_type": "code",
   "execution_count": 1,
   "id": "16d80853",
   "metadata": {},
   "outputs": [
    {
     "name": "stdout",
     "output_type": "stream",
     "text": [
      "Requirement already satisfied: iopath in /home/mukundan/anaconda3/envs/humanoid_envs/lib/python3.10/site-packages (0.1.10)\n",
      "Requirement already satisfied: tqdm in /home/mukundan/anaconda3/envs/humanoid_envs/lib/python3.10/site-packages (from iopath) (4.67.1)\n",
      "Requirement already satisfied: typing-extensions in /home/mukundan/anaconda3/envs/humanoid_envs/lib/python3.10/site-packages (from iopath) (4.13.2)\n",
      "Requirement already satisfied: portalocker in /home/mukundan/anaconda3/envs/humanoid_envs/lib/python3.10/site-packages (from iopath) (3.1.1)\n",
      "Looking in links: https://dl.fbaipublicfiles.com/pytorch3d/packaging/wheels/py310_cu121_pyt240/download.html\n",
      "Collecting pytorch3d\n",
      "  Downloading https://dl.fbaipublicfiles.com/pytorch3d/packaging/wheels/py310_cu121_pyt240/pytorch3d-0.7.8-cp310-cp310-linux_x86_64.whl (20.5 MB)\n",
      "\u001b[2K     \u001b[90m━━━━━━━━━━━━━━━━━━━━━━━━━━━━━━━━━━━━━━━━\u001b[0m \u001b[32m20.5/20.5 MB\u001b[0m \u001b[31m31.0 MB/s\u001b[0m eta \u001b[36m0:00:00\u001b[0ma \u001b[36m0:00:01\u001b[0m\n",
      "\u001b[?25hRequirement already satisfied: iopath in /home/mukundan/anaconda3/envs/humanoid_envs/lib/python3.10/site-packages (from pytorch3d) (0.1.10)\n",
      "Requirement already satisfied: tqdm in /home/mukundan/anaconda3/envs/humanoid_envs/lib/python3.10/site-packages (from iopath->pytorch3d) (4.67.1)\n",
      "Requirement already satisfied: typing-extensions in /home/mukundan/anaconda3/envs/humanoid_envs/lib/python3.10/site-packages (from iopath->pytorch3d) (4.13.2)\n",
      "Requirement already satisfied: portalocker in /home/mukundan/anaconda3/envs/humanoid_envs/lib/python3.10/site-packages (from iopath->pytorch3d) (3.1.1)\n",
      "Installing collected packages: pytorch3d\n",
      "Successfully installed pytorch3d-0.7.8\n"
     ]
    }
   ],
   "source": [
    "import sys\n",
    "import torch\n",
    "pyt_version_str=torch.__version__.split(\"+\")[0].replace(\".\", \"\")\n",
    "version_str=\"\".join([\n",
    "    f\"py3{sys.version_info.minor}_cu\",\n",
    "    torch.version.cuda.replace(\".\",\"\"),\n",
    "    f\"_pyt{pyt_version_str}\"\n",
    "])\n",
    "!pip install iopath\n",
    "!pip install --no-index --no-cache-dir pytorch3d -f https://dl.fbaipublicfiles.com/pytorch3d/packaging/wheels/{version_str}/download.html"
   ]
  },
  {
   "cell_type": "code",
   "execution_count": null,
   "id": "020ff5b2",
   "metadata": {},
   "outputs": [],
   "source": [
    "https://dl.fbaipublicfiles.com/pytorch3d/packaging/wheels/py310_cu118_pyt240/download.html"
   ]
  }
 ],
 "metadata": {
  "kernelspec": {
   "display_name": "humanoid_envs",
   "language": "python",
   "name": "python3"
  },
  "language_info": {
   "codemirror_mode": {
    "name": "ipython",
    "version": 3
   },
   "file_extension": ".py",
   "mimetype": "text/x-python",
   "name": "python",
   "nbconvert_exporter": "python",
   "pygments_lexer": "ipython3",
   "version": "3.10.17"
  }
 },
 "nbformat": 4,
 "nbformat_minor": 5
}
